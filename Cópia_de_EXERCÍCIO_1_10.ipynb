{
  "nbformat": 4,
  "nbformat_minor": 0,
  "metadata": {
    "colab": {
      "name": "Cópia de EXERCÍCIO 1-10",
      "provenance": [],
      "toc_visible": true,
      "authorship_tag": "ABX9TyPypzVP+WhjLdK1ZxR5PDaH",
      "include_colab_link": true
    },
    "kernelspec": {
      "name": "python3",
      "display_name": "Python 3"
    },
    "language_info": {
      "name": "python"
    }
  },
  "cells": [
    {
      "cell_type": "markdown",
      "metadata": {
        "id": "view-in-github",
        "colab_type": "text"
      },
      "source": [
        "<a href=\"https://colab.research.google.com/github/Leocadio22/Repositorio_T_Entrega_Python/blob/main/C%C3%B3pia_de_EXERC%C3%8DCIO_1_10.ipynb\" target=\"_parent\"><img src=\"https://colab.research.google.com/assets/colab-badge.svg\" alt=\"Open In Colab\"/></a>"
      ]
    },
    {
      "cell_type": "code",
      "execution_count": null,
      "metadata": {
        "colab": {
          "base_uri": "https://localhost:8080/"
        },
        "id": "guJq7GZDl2F9",
        "outputId": "8156219c-a287-4e1a-d667-bef2b3f6d33c"
      },
      "outputs": [
        {
          "output_type": "stream",
          "name": "stdout",
          "text": [
            "Luiz\n"
          ]
        }
      ],
      "source": [
        "#EXERCÍCIO 5.3\n",
        "print(\"Luiz\")"
      ]
    },
    {
      "cell_type": "code",
      "source": [
        "#EXERCÍCIO 5.4\n",
        "a = 3\n",
        "b = 5\n",
        "print(2*a * 3*b )"
      ],
      "metadata": {
        "colab": {
          "base_uri": "https://localhost:8080/"
        },
        "id": "8Jwpk_uknlN-",
        "outputId": "e94e0167-e836-4874-a043-af1d1762a3a8"
      },
      "execution_count": null,
      "outputs": [
        {
          "output_type": "stream",
          "name": "stdout",
          "text": [
            "90\n"
          ]
        }
      ]
    },
    {
      "cell_type": "code",
      "source": [
        "#EXERCÍCIO 5.5\n",
        "a = 4\n",
        "b = 5\n",
        "c = 8\n",
        "print(a + b + c )"
      ],
      "metadata": {
        "colab": {
          "base_uri": "https://localhost:8080/"
        },
        "id": "m5DxBs4msIdr",
        "outputId": "ef06f679-db68-4abe-ccb1-224e9457dd7e"
      },
      "execution_count": null,
      "outputs": [
        {
          "output_type": "stream",
          "name": "stdout",
          "text": [
            "17\n"
          ]
        }
      ]
    },
    {
      "cell_type": "code",
      "source": [
        "#EXERCÍCIO 5.6\n",
        "salario = 750\n",
        "aumento = 15\n",
        "print (salario + (salario * 15/100))\n"
      ],
      "metadata": {
        "colab": {
          "base_uri": "https://localhost:8080/"
        },
        "id": "Nt61mWhfs0-c",
        "outputId": "9fe3ab5b-2119-4be0-85b5-2e9480b5072b"
      },
      "execution_count": null,
      "outputs": [
        {
          "output_type": "stream",
          "name": "stdout",
          "text": [
            "862.5\n"
          ]
        }
      ]
    },
    {
      "cell_type": "code",
      "source": [
        "#EXERCÍCIO 5.7\n",
        "mt = 1\n",
        "cm = float(input(\"DIGITE A DISTANCIA EM CENTIMETRO \"))\n",
        "cm = mt * 10\n",
        "print(\"A distância em {} cm\".format(cm))"
      ],
      "metadata": {
        "colab": {
          "base_uri": "https://localhost:8080/"
        },
        "id": "_J6QxAVZtjhN",
        "outputId": "92202bd1-d88a-4953-f2d1-592834573734"
      },
      "execution_count": null,
      "outputs": [
        {
          "output_type": "stream",
          "name": "stdout",
          "text": [
            "DIGITE A DISTANCIA EM CENTIMETRO 3\n",
            "A distância em 10 cm\n"
          ]
        }
      ]
    },
    {
      "cell_type": "code",
      "source": [
        "#EXERCÍCIO 5.8\n",
        "print(\"--\" * 12)\n",
        "print(\"<><><> TABUADA <><><>\")\n",
        "numero = int(input(\"DIGITE O NUMERO DA TABUADA DESEJADA: \"))\n",
        "print('{} x {:2} = {}'.format(numero, 1, numero * 1))\n",
        "print(\"{} x {:2} = {}\".format(numero, 2, numero * 2))\n",
        "print('{} x {:2} = {}'.format(numero, 3, numero * 3))\n",
        "print('{} x {:2} = {}'.format(numero, 4, numero * 4))\n",
        "print('{} x {:2} = {}'.format(numero, 5, numero * 5))\n",
        "print('{} x {:2} = {}'.format(numero, 6, numero * 6))\n",
        "print('{} x {:2} = {}'.format(numero, 7, numero * 7))\n",
        "print('{} x {:2} = {}'.format(numero, 8, numero * 8))\n",
        "print('{} x {:2} = {}'.format(numero, 9, numero * 9))\n",
        "print('{} x {:2} = {}'.format(numero, 10, numero * 10))\n",
        "print(\"<><><> FIM <><><>\")"
      ],
      "metadata": {
        "colab": {
          "base_uri": "https://localhost:8080/"
        },
        "id": "p7pL7holv8K8",
        "outputId": "63892483-de6b-4975-dbd2-23f242908c06"
      },
      "execution_count": null,
      "outputs": [
        {
          "output_type": "stream",
          "name": "stdout",
          "text": [
            "------------------------\n",
            "<><><> TABUADA <><><>\n",
            "DIGITE O NUMERO DA TABUADA DESEJADA: 7\n",
            "7 x  1 = 7\n",
            "7 x  2 = 14\n",
            "7 x  3 = 21\n",
            "7 x  4 = 28\n",
            "7 x  5 = 35\n",
            "7 x  6 = 42\n",
            "7 x  7 = 49\n",
            "7 x  8 = 56\n",
            "7 x  9 = 63\n",
            "7 x 10 = 70\n",
            "<><><> FIM <><><>\n"
          ]
        }
      ]
    },
    {
      "cell_type": "code",
      "source": [
        "#EXERCÍCIO 5.9\n",
        "nota1 = float(input(\"DIGITE A PRIMEIRA NOTA \"))\n",
        "nota2 = float(input(\"DIGITE A SEGUNDA NOTA \"))\n",
        "media = (nota1 + nota2) / 2\n",
        "print(\"A NOTA 1 FOI {}\\nA NOTA 2 FOI {}\\nA MÉDIA OBTIDA FOI {}\".format(nota1, nota2, media))\n"
      ],
      "metadata": {
        "colab": {
          "base_uri": "https://localhost:8080/"
        },
        "id": "DnrD_koM9rDK",
        "outputId": "7ab90fec-0f69-4050-fd60-d16effc4f38a"
      },
      "execution_count": null,
      "outputs": [
        {
          "output_type": "stream",
          "name": "stdout",
          "text": [
            "DIGITE A PRIMEIRA NOTA 5\n",
            "DIGITE A SEGUNDA NOTA 7\n",
            "A NOTA 1 FOI 5.0\n",
            "A NOTA 2 FOI 7.0\n",
            "A MÉDIA OBTIDA FOI 6.0\n"
          ]
        }
      ]
    },
    {
      "cell_type": "code",
      "source": [
        "#EXERCÍCIO 5.10\n",
        "salario = float(input(\"DIGITE O SALÁRIO ATUAL R$ \"))\n",
        "taxa1 = 15\n",
        "taxa2 = 10\n",
        "taxa3 = 5\n",
        "aumento1 = salario + (salario * taxa1/100)\n",
        "aumento2 = salario + (salario * taxa2/100)\n",
        "aumento3 = salario + (salario * taxa3/100)\n",
        "print(\"O NOVO SALÁRIO COM O REAJUSTE PARA AS 3 SITUAÇÕES SÃO :\\nSITUACÃO 1 R${} TEVE UM AUMENTO DE R${} COM TAXA DE {}%\\nSITUAÇÃO 2 R${}\\nSITUAÇÃO 3 R${}\".format(aumento1,salario*taxa1/100,taxa1, aumento2, aumento3))"
      ],
      "metadata": {
        "colab": {
          "base_uri": "https://localhost:8080/"
        },
        "id": "e2igVGqMBi3P",
        "outputId": "1e167080-7dc0-49c8-ca9d-8a3911b20882"
      },
      "execution_count": null,
      "outputs": [
        {
          "output_type": "stream",
          "name": "stdout",
          "text": [
            "DIGITE O SALÁRIO ATUAL R$ 5000\n",
            "O NOVO SALÁRIO COM O REAJUSTE PARA AS 3 SITUAÇÕES SÃO :\n",
            "SITUACÃO 1 R$5750.0 TEVE UM AUMENTO DE R$750.0 COM TAXA DE 15%\n",
            "SITUAÇÃO 2 R$5500.0\n",
            "SITUAÇÃO 3 R$5250.0\n"
          ]
        }
      ]
    }
  ]
}