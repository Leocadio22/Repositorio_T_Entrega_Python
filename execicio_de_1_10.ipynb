{
  "cells": [
    {
      "cell_type": "markdown",
      "metadata": {
        "id": "view-in-github",
        "colab_type": "text"
      },
      "source": [
        "<a href=\"https://colab.research.google.com/github/Leocadio22/Repositorio_T_Entrega_Python/blob/main/execicio_de_1_10.ipynb\" target=\"_parent\"><img src=\"https://colab.research.google.com/assets/colab-badge.svg\" alt=\"Open In Colab\"/></a>"
      ]
    },
    {
      "cell_type": "code",
      "execution_count": null,
      "id": "b43cbd04",
      "metadata": {
        "id": "b43cbd04",
        "outputId": "836f7129-976e-497b-81a9-5bd138897208"
      },
      "outputs": [
        {
          "data": {
            "text/plain": [
              "610"
            ]
          },
          "execution_count": 14,
          "metadata": {},
          "output_type": "execute_result"
        }
      ],
      "source": [
        "\n",
        "10+20*30"
      ]
    },
    {
      "cell_type": "code",
      "execution_count": null,
      "id": "ac933978",
      "metadata": {
        "id": "ac933978",
        "outputId": "16dc464d-19c3-4d22-eb10-2a6759ea1fdc"
      },
      "outputs": [
        {
          "data": {
            "text/plain": [
              "1.4"
            ]
          },
          "execution_count": 15,
          "metadata": {},
          "output_type": "execute_result"
        }
      ],
      "source": [
        "42/30"
      ]
    },
    {
      "cell_type": "code",
      "execution_count": null,
      "id": "ad600345",
      "metadata": {
        "id": "ad600345",
        "outputId": "18661888-7473-47cf-99ce-56266a700238"
      },
      "outputs": [
        {
          "data": {
            "text/plain": [
              "575"
            ]
          },
          "execution_count": 16,
          "metadata": {},
          "output_type": "execute_result"
        }
      ],
      "source": [
        "(94+2)*6-1"
      ]
    },
    {
      "cell_type": "code",
      "execution_count": null,
      "id": "ccf1b7f4",
      "metadata": {
        "id": "ccf1b7f4",
        "outputId": "85b6c313-c69c-438e-919f-cf8df5ed6b79"
      },
      "outputs": [
        {
          "data": {
            "text/plain": [
              "107"
            ]
          },
          "execution_count": 17,
          "metadata": {},
          "output_type": "execute_result"
        }
      ],
      "source": [
        "((10+8)*(10-4))-1"
      ]
    },
    {
      "cell_type": "code",
      "execution_count": null,
      "id": "33b532bd",
      "metadata": {
        "id": "33b532bd",
        "outputId": "0d2e0791-34e0-4679-a613-24e2666a7670"
      },
      "outputs": [
        {
          "data": {
            "text/plain": [
              "81.0"
            ]
          },
          "execution_count": 25,
          "metadata": {},
          "output_type": "execute_result"
        }
      ],
      "source": [
        "10%3* 10**2+1-10*4/2"
      ]
    },
    {
      "cell_type": "code",
      "execution_count": null,
      "id": "68c25a96",
      "metadata": {
        "id": "68c25a96",
        "outputId": "d031c04c-7c5e-40b9-849d-fced131fb91d"
      },
      "outputs": [
        {
          "name": "stdout",
          "output_type": "stream",
          "text": [
            "1575.0\n"
          ]
        }
      ],
      "source": [
        "salario = 1500\n",
        "aumento = 5\n",
        "print(salario+(salario*aumento/100))"
      ]
    },
    {
      "cell_type": "code",
      "execution_count": null,
      "id": "b3ee38ca",
      "metadata": {
        "id": "b3ee38ca",
        "outputId": "823d6701-b6b6-4d89-bdfc-9a74cb928f24"
      },
      "outputs": [
        {
          "name": "stdout",
          "output_type": "stream",
          "text": [
            "luiz\n"
          ]
        }
      ],
      "source": [
        "print(\"luiz\")"
      ]
    },
    {
      "cell_type": "code",
      "execution_count": null,
      "id": "8d9d569c",
      "metadata": {
        "id": "8d9d569c",
        "outputId": "2a652257-026e-4203-9484-355a4ac47191"
      },
      "outputs": [
        {
          "name": "stdout",
          "output_type": "stream",
          "text": [
            "90\n"
          ]
        }
      ],
      "source": [
        "a=3\n",
        "b=5\n",
        "print(2 * a * 3 * b )"
      ]
    },
    {
      "cell_type": "code",
      "execution_count": null,
      "id": "4bfc980b",
      "metadata": {
        "id": "4bfc980b",
        "outputId": "3f204bd5-3e77-4b22-b812-897d2219d325"
      },
      "outputs": [
        {
          "name": "stdout",
          "output_type": "stream",
          "text": [
            "14\n"
          ]
        }
      ],
      "source": [
        "a = 3\n",
        "b = 4\n",
        "c = 7\n",
        "print(a+b+c)"
      ]
    },
    {
      "cell_type": "code",
      "execution_count": null,
      "id": "1f9c26b0",
      "metadata": {
        "id": "1f9c26b0",
        "outputId": "4190ef64-6051-4815-bbfc-0159d95aaeda"
      },
      "outputs": [
        {
          "name": "stdout",
          "output_type": "stream",
          "text": [
            "761.25\n"
          ]
        }
      ],
      "source": [
        "salario = 750\n",
        "aumento = 15\n",
        "print(salario + (salario * aumento/1000))\n",
        "\n"
      ]
    },
    {
      "cell_type": "code",
      "execution_count": null,
      "id": "7b20f699",
      "metadata": {
        "id": "7b20f699",
        "outputId": "a024a3bb-0f10-4734-8b05-743f49645fbf"
      },
      "outputs": [
        {
          "name": "stdout",
          "output_type": "stream",
          "text": [
            "10.0\n"
          ]
        }
      ],
      "source": [
        "metro=1000\n",
        "print(metro/100)  "
      ]
    },
    {
      "cell_type": "code",
      "execution_count": null,
      "id": "0eaff006",
      "metadata": {
        "id": "0eaff006",
        "outputId": "92a37cf8-8c10-4387-f9e1-63102982288c"
      },
      "outputs": [
        {
          "name": "stdout",
          "output_type": "stream",
          "text": [
            "informe um numero:2\n",
            "tabuada de 2 :\n",
            "2 x 1 = 2\n",
            "2 x 2 = 4\n",
            "2 x 3 = 6\n",
            "2 x 4 = 8\n",
            "2 x 5 = 10\n",
            "2 x 6 = 12\n",
            "2 x 7 = 14\n",
            "2 x 8 = 16\n",
            "2 x 9 = 18\n",
            "2 x 10 = 20\n"
          ]
        }
      ],
      "source": [
        "#EXERCICIO 5.8\n",
        "numero = int(input('informe um numero:'))\n",
        "print('tabuada de', numero,':')\n",
        "for i in range(1,11):\n",
        "    print(numero,'x',i, '=',(numero * i))\n"
      ]
    },
    {
      "cell_type": "code",
      "execution_count": null,
      "id": "c50a1e18",
      "metadata": {
        "id": "c50a1e18",
        "outputId": "39bafbc2-d9e7-49b3-aff9-d706bc350c35"
      },
      "outputs": [
        {
          "name": "stdout",
          "output_type": "stream",
          "text": [
            "INFORME NOTA 1 7\n",
            "A NOTA DIGITADA FOI  7.0\n",
            "INFORME NOTA 2 6\n",
            "A NOTA DIGITADA FOI 6.0\n",
            "SUA MENDIA É 6.5\n"
          ]
        }
      ],
      "source": [
        "#EXERCICIO 5.9\n",
        "not1 = float(input('INFORME NOTA 1 '))\n",
        "print(\"A NOTA DIGITADA FOI \",not1)\n",
        "not2 = float(input('INFORME NOTA 2 '))\n",
        "print('A NOTA DIGITADA FOI',not2)\n",
        "media = (not1+not2)/2\n",
        "print(\"SUA MENDIA É\",media)\n"
      ]
    },
    {
      "cell_type": "code",
      "execution_count": null,
      "id": "796457fd",
      "metadata": {
        "id": "796457fd",
        "outputId": "9763836f-6971-43d5-e6c9-ec353dcc4edc"
      },
      "outputs": [
        {
          "name": "stdout",
          "output_type": "stream",
          "text": [
            "INFORME SEU SALARIO 4000\n",
            "O SALARIO É 4000.0\n",
            "INFORME A PRIMEIRA TAXA %6\n",
            "INFORME A SEGUNDA TAXA %5\n",
            "INFORME A TERCEIRA TAXA %5\n",
            "o aumento  240.0\n"
          ]
        }
      ],
      "source": [
        "salario = float(input(\"INFORME SEU SALARIO \"))\n",
        "print(\"O SALARIO É\",salario)\n",
        "taxa1 = float(input(\"INFORME A PRIMEIRA TAXA %\"))\n",
        "taxa2 = float(input(\"INFORME A SEGUNDA TAXA %\"))\n",
        "taxa3 = float(input(\"INFORME A TERCEIRA TAXA %\"))\n",
        "\n",
        "print(\"O SALARIO É\",salario)\n",
        "aumento = salario * (taxa1/100)\n",
        "print(\"o aumento \", aumento)\n",
        "\n"
      ]
    }
  ],
  "metadata": {
    "kernelspec": {
      "display_name": "Python 3 (ipykernel)",
      "language": "python",
      "name": "python3"
    },
    "language_info": {
      "codemirror_mode": {
        "name": "ipython",
        "version": 3
      },
      "file_extension": ".py",
      "mimetype": "text/x-python",
      "name": "python",
      "nbconvert_exporter": "python",
      "pygments_lexer": "ipython3",
      "version": "3.9.7"
    },
    "colab": {
      "name": "execicio de 1-10.ipynb",
      "provenance": [],
      "include_colab_link": true
    }
  },
  "nbformat": 4,
  "nbformat_minor": 5
}